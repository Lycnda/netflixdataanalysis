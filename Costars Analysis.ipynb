{
 "cells": [
  {
   "cell_type": "code",
   "execution_count": 1,
   "id": "5b377efb",
   "metadata": {},
   "outputs": [],
   "source": [
    "import pandas as pd\n",
    "import json"
   ]
  },
  {
   "cell_type": "markdown",
   "id": "6d3f68e4",
   "metadata": {},
   "source": [
    "### Get the Titles and cast"
   ]
  },
  {
   "cell_type": "code",
   "execution_count": 2,
   "id": "2a9db66a",
   "metadata": {},
   "outputs": [],
   "source": [
    "titlesandother = pd.read_csv(\"titlesandother.csv\")"
   ]
  },
  {
   "cell_type": "code",
   "execution_count": 3,
   "id": "a1a627d9",
   "metadata": {},
   "outputs": [],
   "source": [
    "def explodetitleandcast(titlesandother):\n",
    "\n",
    "    titleandcast = titlesandother[['title', 'cast']]\n",
    "    titleandcast=titleandcast.fillna(\"\")\n",
    "    titleandcast=titleandcast.drop_duplicates()\n",
    "    titleandcast=titleandcast.reset_index()\n",
    "    titleandcast.drop([\"index\"], inplace=True, axis=1)\n",
    "    titleandcast[\"cast\"] = titleandcast[\"cast\"].apply(lambda x :  x.split(\",\")  )\n",
    "    titleandcastexploded = titleandcast.explode('cast')\n",
    "    \n",
    "    return titleandcastexploded"
   ]
  },
  {
   "cell_type": "code",
   "execution_count": 4,
   "id": "7aae6425",
   "metadata": {},
   "outputs": [],
   "source": [
    "titleandcastexploded = explodetitleandcast(titlesandother)"
   ]
  },
  {
   "cell_type": "code",
   "execution_count": 5,
   "id": "5956ed2c",
   "metadata": {},
   "outputs": [
    {
     "data": {
      "text/plain": [
       "(Index(['title', 'cast'], dtype='object'), 11939)"
      ]
     },
     "execution_count": 5,
     "metadata": {},
     "output_type": "execute_result"
    }
   ],
   "source": [
    "titleandcastexploded.columns, len(titleandcastexploded)"
   ]
  },
  {
   "cell_type": "code",
   "execution_count": 6,
   "id": "ac0d9c2a",
   "metadata": {},
   "outputs": [],
   "source": [
    "titleandcastexploded[\"cast\"] = titleandcastexploded[\"cast\"].apply(lambda x : x.strip())"
   ]
  },
  {
   "cell_type": "code",
   "execution_count": 7,
   "id": "3a559665",
   "metadata": {},
   "outputs": [],
   "source": [
    "thelistofactors = titleandcastexploded[\"cast\"].unique().tolist()"
   ]
  },
  {
   "cell_type": "markdown",
   "id": "db2a1800",
   "metadata": {},
   "source": [
    "### Get the actor count"
   ]
  },
  {
   "cell_type": "code",
   "execution_count": 8,
   "id": "ed06e461",
   "metadata": {},
   "outputs": [],
   "source": [
    "# Opening JSON file\n",
    "f = open('allactorsdict.json')\n",
    "\n",
    "# returns JSON object as a dictionary\n",
    "data = json.load(f)\n",
    "\n",
    "# Closing file\n",
    "f.close()"
   ]
  },
  {
   "cell_type": "code",
   "execution_count": 9,
   "id": "97e4918d",
   "metadata": {},
   "outputs": [],
   "source": [
    "# thelistofactors = thelistofactors[38:50]"
   ]
  },
  {
   "cell_type": "code",
   "execution_count": 10,
   "id": "bc3c82c7",
   "metadata": {},
   "outputs": [
    {
     "data": {
      "text/html": [
       "<div>\n",
       "<style scoped>\n",
       "    .dataframe tbody tr th:only-of-type {\n",
       "        vertical-align: middle;\n",
       "    }\n",
       "\n",
       "    .dataframe tbody tr th {\n",
       "        vertical-align: top;\n",
       "    }\n",
       "\n",
       "    .dataframe thead th {\n",
       "        text-align: right;\n",
       "    }\n",
       "</style>\n",
       "<table border=\"1\" class=\"dataframe\">\n",
       "  <thead>\n",
       "    <tr style=\"text-align: right;\">\n",
       "      <th></th>\n",
       "      <th>title</th>\n",
       "      <th>cast</th>\n",
       "    </tr>\n",
       "  </thead>\n",
       "  <tbody>\n",
       "    <tr>\n",
       "      <th>14</th>\n",
       "      <td>The Signal</td>\n",
       "      <td>Laurence Fishburne</td>\n",
       "    </tr>\n",
       "    <tr>\n",
       "      <th>126</th>\n",
       "      <td>The Ice Road</td>\n",
       "      <td>Laurence Fishburne</td>\n",
       "    </tr>\n",
       "    <tr>\n",
       "      <th>329</th>\n",
       "      <td>21</td>\n",
       "      <td>Laurence Fishburne</td>\n",
       "    </tr>\n",
       "    <tr>\n",
       "      <th>377</th>\n",
       "      <td>Mystic River</td>\n",
       "      <td>Laurence Fishburne</td>\n",
       "    </tr>\n",
       "    <tr>\n",
       "      <th>432</th>\n",
       "      <td>Teenage Mutant Ninja Turtles</td>\n",
       "      <td>Laurence Fishburne</td>\n",
       "    </tr>\n",
       "    <tr>\n",
       "      <th>648</th>\n",
       "      <td>The Matrix</td>\n",
       "      <td>Laurence Fishburne</td>\n",
       "    </tr>\n",
       "    <tr>\n",
       "      <th>859</th>\n",
       "      <td>The Matrix Reloaded</td>\n",
       "      <td>Laurence Fishburne</td>\n",
       "    </tr>\n",
       "    <tr>\n",
       "      <th>860</th>\n",
       "      <td>The Matrix Revolutions</td>\n",
       "      <td>Laurence Fishburne</td>\n",
       "    </tr>\n",
       "  </tbody>\n",
       "</table>\n",
       "</div>"
      ],
      "text/plain": [
       "                            title                cast\n",
       "14                     The Signal  Laurence Fishburne\n",
       "126                  The Ice Road  Laurence Fishburne\n",
       "329                            21  Laurence Fishburne\n",
       "377                  Mystic River  Laurence Fishburne\n",
       "432  Teenage Mutant Ninja Turtles  Laurence Fishburne\n",
       "648                    The Matrix  Laurence Fishburne\n",
       "859           The Matrix Reloaded  Laurence Fishburne\n",
       "860        The Matrix Revolutions  Laurence Fishburne"
      ]
     },
     "execution_count": 10,
     "metadata": {},
     "output_type": "execute_result"
    }
   ],
   "source": [
    "titleandcastexploded[titleandcastexploded[\"cast\"]==\"Laurence Fishburne\"]"
   ]
  },
  {
   "cell_type": "code",
   "execution_count": 11,
   "id": "498c827d",
   "metadata": {},
   "outputs": [
    {
     "data": {
      "text/html": [
       "<div>\n",
       "<style scoped>\n",
       "    .dataframe tbody tr th:only-of-type {\n",
       "        vertical-align: middle;\n",
       "    }\n",
       "\n",
       "    .dataframe tbody tr th {\n",
       "        vertical-align: top;\n",
       "    }\n",
       "\n",
       "    .dataframe thead th {\n",
       "        text-align: right;\n",
       "    }\n",
       "</style>\n",
       "<table border=\"1\" class=\"dataframe\">\n",
       "  <thead>\n",
       "    <tr style=\"text-align: right;\">\n",
       "      <th></th>\n",
       "      <th>title</th>\n",
       "      <th>cast</th>\n",
       "    </tr>\n",
       "  </thead>\n",
       "  <tbody>\n",
       "    <tr>\n",
       "      <th>33</th>\n",
       "      <td>The Whole Truth</td>\n",
       "      <td>Keanu Reeves</td>\n",
       "    </tr>\n",
       "    <tr>\n",
       "      <th>396</th>\n",
       "      <td>Man of Tai Chi</td>\n",
       "      <td>Keanu Reeves</td>\n",
       "    </tr>\n",
       "    <tr>\n",
       "      <th>612</th>\n",
       "      <td>Knock Knock</td>\n",
       "      <td>Keanu Reeves</td>\n",
       "    </tr>\n",
       "    <tr>\n",
       "      <th>648</th>\n",
       "      <td>The Matrix</td>\n",
       "      <td>Keanu Reeves</td>\n",
       "    </tr>\n",
       "    <tr>\n",
       "      <th>669</th>\n",
       "      <td>Something's Gotta Give</td>\n",
       "      <td>Keanu Reeves</td>\n",
       "    </tr>\n",
       "    <tr>\n",
       "      <th>859</th>\n",
       "      <td>The Matrix Reloaded</td>\n",
       "      <td>Keanu Reeves</td>\n",
       "    </tr>\n",
       "    <tr>\n",
       "      <th>860</th>\n",
       "      <td>The Matrix Revolutions</td>\n",
       "      <td>Keanu Reeves</td>\n",
       "    </tr>\n",
       "  </tbody>\n",
       "</table>\n",
       "</div>"
      ],
      "text/plain": [
       "                      title          cast\n",
       "33          The Whole Truth  Keanu Reeves\n",
       "396          Man of Tai Chi  Keanu Reeves\n",
       "612             Knock Knock  Keanu Reeves\n",
       "648              The Matrix  Keanu Reeves\n",
       "669  Something's Gotta Give  Keanu Reeves\n",
       "859     The Matrix Reloaded  Keanu Reeves\n",
       "860  The Matrix Revolutions  Keanu Reeves"
      ]
     },
     "execution_count": 11,
     "metadata": {},
     "output_type": "execute_result"
    }
   ],
   "source": [
    "titleandcastexploded[titleandcastexploded[\"cast\"]==\"Keanu Reeves\"]"
   ]
  },
  {
   "cell_type": "code",
   "execution_count": 13,
   "id": "1f4addbd",
   "metadata": {},
   "outputs": [],
   "source": [
    "allcostararr = []\n",
    "for actor in thelistofactors:\n",
    "#     actor = \"Taylor Swift\"\n",
    "    if(actor != \"\"):\n",
    "        actorcostars = list(set(list(data[actor].keys())))\n",
    "        actorcostars = list(set(actorcostars) - set(actor))\n",
    "    #     len(actorcostars), actor\n",
    "\n",
    "        ### Get an actor's movies\n",
    "\n",
    "        thefilmsandshows = titleandcastexploded[titleandcastexploded[\"cast\"]==actor]\n",
    "        theactorsfilms = thefilmsandshows[\"title\"].unique()\n",
    "\n",
    "        ### Get the number of common movies and the common movies\n",
    "        commonmoviesdict = {}\n",
    "        for anactor in actorcostars:\n",
    "            if(actor!=anactor):\n",
    "                titles = titleandcastexploded[titleandcastexploded['cast']==anactor][\"title\"].unique().tolist()\n",
    "                common_movies = list(set(titles) - (set(titles) - set(theactorsfilms)))\n",
    "                num_movies = len(common_movies)\n",
    "\n",
    "                dfactor = pd.DataFrame([[actor,anactor,num_movies,common_movies]], columns = [\"actor\", \"co-star\", \"num movies costarring\", \"common_movies\"])\n",
    "                allcostararr.append(dfactor)\n",
    "\n",
    "    #             commonmoviesdict[anactor] = [common_movies,len(common_movies)]"
   ]
  },
  {
   "cell_type": "code",
   "execution_count": 14,
   "id": "987e55c8",
   "metadata": {},
   "outputs": [],
   "source": [
    "morecostars = pd.concat(allcostararr)"
   ]
  },
  {
   "cell_type": "code",
   "execution_count": 15,
   "id": "554d341d",
   "metadata": {},
   "outputs": [],
   "source": [
    "morecostars = morecostars.reset_index()"
   ]
  },
  {
   "cell_type": "code",
   "execution_count": 18,
   "id": "402a8aa0",
   "metadata": {},
   "outputs": [
    {
     "data": {
      "text/html": [
       "<div>\n",
       "<style scoped>\n",
       "    .dataframe tbody tr th:only-of-type {\n",
       "        vertical-align: middle;\n",
       "    }\n",
       "\n",
       "    .dataframe tbody tr th {\n",
       "        vertical-align: top;\n",
       "    }\n",
       "\n",
       "    .dataframe thead th {\n",
       "        text-align: right;\n",
       "    }\n",
       "</style>\n",
       "<table border=\"1\" class=\"dataframe\">\n",
       "  <thead>\n",
       "    <tr style=\"text-align: right;\">\n",
       "      <th></th>\n",
       "      <th>actor</th>\n",
       "      <th>co-star</th>\n",
       "      <th>num movies costarring</th>\n",
       "      <th>common_movies</th>\n",
       "    </tr>\n",
       "  </thead>\n",
       "  <tbody>\n",
       "    <tr>\n",
       "      <th>0</th>\n",
       "      <td>Adjoa Andoh</td>\n",
       "      <td>Polly Walker</td>\n",
       "      <td>1</td>\n",
       "      <td>[Bridgerton]</td>\n",
       "    </tr>\n",
       "    <tr>\n",
       "      <th>1</th>\n",
       "      <td>Adjoa Andoh</td>\n",
       "      <td>Julie Andrews</td>\n",
       "      <td>1</td>\n",
       "      <td>[Bridgerton]</td>\n",
       "    </tr>\n",
       "    <tr>\n",
       "      <th>2</th>\n",
       "      <td>Adjoa Andoh</td>\n",
       "      <td>Lorraine Ashbourne</td>\n",
       "      <td>1</td>\n",
       "      <td>[Bridgerton]</td>\n",
       "    </tr>\n",
       "    <tr>\n",
       "      <th>3</th>\n",
       "      <td>Adjoa Andoh</td>\n",
       "      <td>Ben Miller</td>\n",
       "      <td>1</td>\n",
       "      <td>[Bridgerton]</td>\n",
       "    </tr>\n",
       "    <tr>\n",
       "      <th>4</th>\n",
       "      <td>Adjoa Andoh</td>\n",
       "      <td>RegÃ©-Jean Page</td>\n",
       "      <td>1</td>\n",
       "      <td>[Bridgerton]</td>\n",
       "    </tr>\n",
       "    <tr>\n",
       "      <th>...</th>\n",
       "      <td>...</td>\n",
       "      <td>...</td>\n",
       "      <td>...</td>\n",
       "      <td>...</td>\n",
       "    </tr>\n",
       "    <tr>\n",
       "      <th>124924</th>\n",
       "      <td>Hwang Bo-ra</td>\n",
       "      <td>Lee Ki-young</td>\n",
       "      <td>1</td>\n",
       "      <td>[Vagabond]</td>\n",
       "    </tr>\n",
       "    <tr>\n",
       "      <th>124925</th>\n",
       "      <td>Hwang Bo-ra</td>\n",
       "      <td>Bae Suzy</td>\n",
       "      <td>1</td>\n",
       "      <td>[Vagabond]</td>\n",
       "    </tr>\n",
       "    <tr>\n",
       "      <th>124926</th>\n",
       "      <td>Hwang Bo-ra</td>\n",
       "      <td>Lee Seung-gi</td>\n",
       "      <td>1</td>\n",
       "      <td>[Vagabond]</td>\n",
       "    </tr>\n",
       "    <tr>\n",
       "      <th>124927</th>\n",
       "      <td>Hwang Bo-ra</td>\n",
       "      <td>Moon Sung-keun</td>\n",
       "      <td>1</td>\n",
       "      <td>[Vagabond]</td>\n",
       "    </tr>\n",
       "    <tr>\n",
       "      <th>124928</th>\n",
       "      <td>Hwang Bo-ra</td>\n",
       "      <td>Jung Man-sik</td>\n",
       "      <td>1</td>\n",
       "      <td>[Vagabond]</td>\n",
       "    </tr>\n",
       "  </tbody>\n",
       "</table>\n",
       "<p>124929 rows × 4 columns</p>\n",
       "</div>"
      ],
      "text/plain": [
       "              actor             co-star  num movies costarring common_movies\n",
       "0       Adjoa Andoh        Polly Walker                      1  [Bridgerton]\n",
       "1       Adjoa Andoh       Julie Andrews                      1  [Bridgerton]\n",
       "2       Adjoa Andoh  Lorraine Ashbourne                      1  [Bridgerton]\n",
       "3       Adjoa Andoh          Ben Miller                      1  [Bridgerton]\n",
       "4       Adjoa Andoh     RegÃ©-Jean Page                      1  [Bridgerton]\n",
       "...             ...                 ...                    ...           ...\n",
       "124924  Hwang Bo-ra        Lee Ki-young                      1    [Vagabond]\n",
       "124925  Hwang Bo-ra            Bae Suzy                      1    [Vagabond]\n",
       "124926  Hwang Bo-ra        Lee Seung-gi                      1    [Vagabond]\n",
       "124927  Hwang Bo-ra      Moon Sung-keun                      1    [Vagabond]\n",
       "124928  Hwang Bo-ra        Jung Man-sik                      1    [Vagabond]\n",
       "\n",
       "[124929 rows x 4 columns]"
      ]
     },
     "execution_count": 18,
     "metadata": {},
     "output_type": "execute_result"
    }
   ],
   "source": [
    "morecostars"
   ]
  },
  {
   "cell_type": "code",
   "execution_count": 16,
   "id": "be617de1",
   "metadata": {},
   "outputs": [],
   "source": [
    "morecostars.drop([\"index\"], axis=1, inplace=True)"
   ]
  },
  {
   "cell_type": "code",
   "execution_count": 19,
   "id": "5e674fbf",
   "metadata": {},
   "outputs": [],
   "source": [
    "# morecostars = morecostars.drop_duplicates()"
   ]
  },
  {
   "cell_type": "markdown",
   "id": "b8a6ac93",
   "metadata": {},
   "source": [
    "### Tag whether it is a franchise or not"
   ]
  },
  {
   "cell_type": "code",
   "execution_count": 34,
   "id": "e00daf91",
   "metadata": {},
   "outputs": [],
   "source": [
    "from difflib import SequenceMatcher\n",
    "\n",
    "# Utility function to compute similarity\n",
    "def similar(str1, str2):\n",
    "    return SequenceMatcher(None, str1, str2).ratio()"
   ]
  },
  {
   "cell_type": "code",
   "execution_count": 67,
   "id": "6d0043f6",
   "metadata": {},
   "outputs": [],
   "source": [
    "def isitsequel(x):\n",
    "    similarityls = []\n",
    "    similarityval = False\n",
    "    if(len(x) > 1):\n",
    "        first = x[0]\n",
    "        similarityls = []\n",
    "        for othervalues in x[1:]:\n",
    "            similarity = similar(first, othervalues)\n",
    "            if(similarity > 0.55):\n",
    "                similarityval = True \n",
    "            else:\n",
    "                similarityval = False\n",
    "            similarityls.append(similarityval)\n",
    "            \n",
    "    return similarityls"
   ]
  },
  {
   "cell_type": "code",
   "execution_count": 68,
   "id": "ea938e67",
   "metadata": {},
   "outputs": [],
   "source": [
    "morecostars[\"is_franchise\"] = morecostars[\"common_movies\"].apply(lambda x : isitsequel(x))"
   ]
  },
  {
   "cell_type": "code",
   "execution_count": 69,
   "id": "51cb27f8",
   "metadata": {},
   "outputs": [],
   "source": [
    "morecostars.to_csv(\"morecostars.csv\", index=False)"
   ]
  }
 ],
 "metadata": {
  "kernelspec": {
   "display_name": "Python 3 (ipykernel)",
   "language": "python",
   "name": "python3"
  },
  "language_info": {
   "codemirror_mode": {
    "name": "ipython",
    "version": 3
   },
   "file_extension": ".py",
   "mimetype": "text/x-python",
   "name": "python",
   "nbconvert_exporter": "python",
   "pygments_lexer": "ipython3",
   "version": "3.9.13"
  }
 },
 "nbformat": 4,
 "nbformat_minor": 5
}
