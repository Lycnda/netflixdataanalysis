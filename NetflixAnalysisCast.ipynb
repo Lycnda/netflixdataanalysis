{
 "cells": [
  {
   "cell_type": "code",
   "execution_count": 1,
   "id": "d4b588e9",
   "metadata": {},
   "outputs": [],
   "source": [
    "import pandas as pd\n",
    "from collections import Counter"
   ]
  },
  {
   "cell_type": "code",
   "execution_count": 2,
   "id": "9b1af2f7",
   "metadata": {},
   "outputs": [],
   "source": [
    "titlesandother = pd.read_csv(\"titlesandother.csv\")"
   ]
  },
  {
   "cell_type": "code",
   "execution_count": 3,
   "id": "4a619e89",
   "metadata": {},
   "outputs": [
    {
     "data": {
      "text/plain": [
       "Index(['country_name', 'country_iso2', 'week', 'category', 'weekly_rank',\n",
       "       'show_title', 'season_title', 'cumulative_weeks_in_top_10', 'Continent',\n",
       "       'Season', 'show_type', 'country_of_origin', 'show_id', 'type', 'title',\n",
       "       'director', 'cast', 'country', 'date_added', 'release_year', 'rating',\n",
       "       'duration', 'listed_in', 'description'],\n",
       "      dtype='object')"
      ]
     },
     "execution_count": 3,
     "metadata": {},
     "output_type": "execute_result"
    }
   ],
   "source": [
    "titlesandother.columns"
   ]
  },
  {
   "cell_type": "code",
   "execution_count": 4,
   "id": "c0935882",
   "metadata": {},
   "outputs": [],
   "source": [
    "titleandcast = titlesandother[['title', 'cast']]\n",
    "titleandcast=titleandcast.fillna(\"\")\n",
    "titleandcast=titleandcast.drop_duplicates()\n",
    "titleandcast=titleandcast.reset_index()"
   ]
  },
  {
   "cell_type": "code",
   "execution_count": 5,
   "id": "01ac2c7b",
   "metadata": {},
   "outputs": [],
   "source": [
    "titleandcast.drop([\"index\"], inplace=True, axis=1)"
   ]
  },
  {
   "cell_type": "code",
   "execution_count": 7,
   "id": "c23d7cc6",
   "metadata": {},
   "outputs": [],
   "source": [
    "# titleandcast[]"
   ]
  },
  {
   "cell_type": "code",
   "execution_count": 8,
   "id": "07a903d4",
   "metadata": {},
   "outputs": [],
   "source": [
    "titleandcast[\"cast\"] = titleandcast[\"cast\"].apply(lambda x :  x.split(\",\")  )"
   ]
  },
  {
   "cell_type": "code",
   "execution_count": 9,
   "id": "ef307525",
   "metadata": {},
   "outputs": [],
   "source": [
    "titleandcastexploded = titleandcast.explode('cast')"
   ]
  },
  {
   "cell_type": "code",
   "execution_count": 10,
   "id": "f00b20c7",
   "metadata": {},
   "outputs": [],
   "source": [
    "titleandcastexploded[\"cast\"]=titleandcastexploded[\"cast\"].apply(lambda x : x.strip())"
   ]
  },
  {
   "cell_type": "code",
   "execution_count": 11,
   "id": "ae01042b",
   "metadata": {},
   "outputs": [],
   "source": [
    "countoftitlesperactor = titleandcastexploded.groupby([\"cast\"])[\"title\"].count().reset_index()"
   ]
  },
  {
   "cell_type": "code",
   "execution_count": 12,
   "id": "28bc5733",
   "metadata": {},
   "outputs": [],
   "source": [
    "countoftitlesperactor.to_csv(\"titleandcastexploded.csv\", index=False)"
   ]
  },
  {
   "cell_type": "code",
   "execution_count": 13,
   "id": "50ce579c",
   "metadata": {},
   "outputs": [],
   "source": [
    "allactors = titleandcastexploded[\"cast\"].unique().tolist()"
   ]
  },
  {
   "cell_type": "code",
   "execution_count": 14,
   "id": "083ac63b",
   "metadata": {},
   "outputs": [],
   "source": [
    "# allactors = allactors[:5]\n",
    "# allactors"
   ]
  },
  {
   "cell_type": "code",
   "execution_count": 15,
   "id": "1b6f0532",
   "metadata": {},
   "outputs": [],
   "source": [
    "allactorsdict = {}\n",
    "\n",
    "for actorname in allactors:\n",
    "    if actorname != \"\":\n",
    "        moviesperactordf = titleandcastexploded[titleandcastexploded[\"cast\"]==actorname]\n",
    "        moviesperactortitles = moviesperactordf[\"title\"].unique().tolist()\n",
    "        otheractorsinsametitlesls = []\n",
    "        for amovie in moviesperactortitles:\n",
    "            otheractorsinsametitles = titleandcastexploded[titleandcastexploded[\"title\"]==amovie]\n",
    "            otheractorsinsametitlesls.append(otheractorsinsametitles[\"cast\"].unique().tolist())\n",
    "\n",
    "        actorsimilardict = dict(Counter(x for xs in otheractorsinsametitlesls for x in set(xs)))   \n",
    "        allactorsdict[actorname] = actorsimilardict"
   ]
  },
  {
   "cell_type": "code",
   "execution_count": 16,
   "id": "ea9b0f1f",
   "metadata": {},
   "outputs": [],
   "source": [
    "# allactorsdict\n",
    "import json\n",
    "with open('allactorsdict.json', 'w') as f:\n",
    "    json.dump(allactorsdict, f)"
   ]
  },
  {
   "cell_type": "code",
   "execution_count": null,
   "id": "623330e1",
   "metadata": {},
   "outputs": [],
   "source": []
  },
  {
   "cell_type": "code",
   "execution_count": null,
   "id": "a04a8e0f",
   "metadata": {},
   "outputs": [],
   "source": []
  },
  {
   "cell_type": "code",
   "execution_count": null,
   "id": "f611490c",
   "metadata": {},
   "outputs": [],
   "source": []
  },
  {
   "cell_type": "code",
   "execution_count": null,
   "id": "4c883f3d",
   "metadata": {},
   "outputs": [],
   "source": []
  },
  {
   "cell_type": "code",
   "execution_count": null,
   "id": "740575f6",
   "metadata": {},
   "outputs": [],
   "source": []
  }
 ],
 "metadata": {
  "kernelspec": {
   "display_name": "Python 3 (ipykernel)",
   "language": "python",
   "name": "python3"
  },
  "language_info": {
   "codemirror_mode": {
    "name": "ipython",
    "version": 3
   },
   "file_extension": ".py",
   "mimetype": "text/x-python",
   "name": "python",
   "nbconvert_exporter": "python",
   "pygments_lexer": "ipython3",
   "version": "3.9.13"
  }
 },
 "nbformat": 4,
 "nbformat_minor": 5
}
